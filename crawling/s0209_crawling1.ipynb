{
 "cells": [
  {
   "cell_type": "code",
   "execution_count": 32,
   "id": "boolean-experience",
   "metadata": {},
   "outputs": [
    {
     "name": "stdout",
     "output_type": "stream",
     "text": [
      "<html>\n",
      "\t<head>\n",
      "\t\t<title>KYS Homepage</title>\n",
      "\t</head>\n",
      "\t<body>\n",
      "\t\tHello<br>\n",
      "\t\tKYS Homepage<br>\n",
      "\t\t<ul>내가 좋아하는 것들\n",
      "\t\t\t<li>여행</li>\n",
      "\t\t\t<li>게임</li>\n",
      "\t\t\t<li>낮잠</li>\n",
      "\t\t</ul>\n",
      "\t\t<ul>내가 싫어하는 것들\n",
      "\t\t\t<li>벌레</li>\n",
      "\t\t\t<li>소음</li>\n",
      "\t\t\t<li>해산물</li>\n",
      "\t\t</ul>\n",
      "\t</body>\n",
      "</html>\n"
     ]
    }
   ],
   "source": [
    "import re\n",
    "\n",
    "file = open(\"index.html\", \"r\", encoding = \"utf-8\")\n",
    "read = file.read()\n",
    "print(read)"
   ]
  },
  {
   "cell_type": "code",
   "execution_count": 33,
   "id": "hollywood-character",
   "metadata": {},
   "outputs": [
    {
     "name": "stdout",
     "output_type": "stream",
     "text": [
      "KYS Homepage\n"
     ]
    }
   ],
   "source": [
    "pattern = re.compile(r\"<title>(?P<text>.*)</title>\")\n",
    "match = pattern.search(read)\n",
    "print(match.group(\"text\"))"
   ]
  },
  {
   "cell_type": "code",
   "execution_count": 47,
   "id": "fifty-europe",
   "metadata": {},
   "outputs": [
    {
     "name": "stdout",
     "output_type": "stream",
     "text": [
      "['여행', '게임', '낮잠', '벌레', '소음', '해산물']\n"
     ]
    }
   ],
   "source": [
    "pattern = re.compile(r\"<li>(?P<litext>.*)</li>\", re.MULTILINE)\n",
    "\n",
    "matchs = pattern.finditer(read)\n",
    "\n",
    "\n",
    "rows = []\n",
    "for match in matchs:\n",
    "    #print(match.group(\"litext\"))\n",
    "    rows.append(match.group(\"litext\"))\n",
    "print(rows)"
   ]
  },
  {
   "cell_type": "code",
   "execution_count": 64,
   "id": "multiple-senate",
   "metadata": {},
   "outputs": [
    {
     "name": "stdout",
     "output_type": "stream",
     "text": [
      "['내가 좋아하는 것들', '내가 싫어하는 것들']\n"
     ]
    }
   ],
   "source": [
    "pattern2 = re.compile(r\"<ul>(?P<lh>.*)\", re.MULTILINE)\n",
    "matchs = pattern.finditer(read)\n",
    "uls = pattern2.finditer(read)\n",
    "row2 = []\n",
    "for ul in uls:\n",
    "    #print(ul.group(\"lh\"))\n",
    "    row2.append(ul.group(\"lh\"))\n",
    "print(row2)"
   ]
  },
  {
   "cell_type": "code",
   "execution_count": 66,
   "id": "interim-greek",
   "metadata": {},
   "outputs": [
    {
     "data": {
      "text/plain": [
       "'<ul>내가 좋아하는 것들\\n\\t\\t\\t<li>여행</li>\\n\\t\\t\\t<li>게임</li>\\n\\t\\t\\t<li>낮잠</li>\\n\\t\\t</ul>'"
      ]
     },
     "execution_count": 66,
     "metadata": {},
     "output_type": "execute_result"
    }
   ],
   "source": [
    "pattern3 = re.compile(r\"<ul>(?P<text>.*?)</ul>\", re.DOTALL)\n",
    "pattern3.search(read).group()"
   ]
  },
  {
   "cell_type": "code",
   "execution_count": 67,
   "id": "seven-training",
   "metadata": {},
   "outputs": [
    {
     "name": "stdout",
     "output_type": "stream",
     "text": [
      "<ul>내가 좋아하는 것들\n",
      "\t\t\t<li>여행</li>\n",
      "\t\t\t<li>게임</li>\n",
      "\t\t\t<li>낮잠</li>\n",
      "\t\t</ul>\n",
      "----------------------\n",
      "<ul>내가 싫어하는 것들\n",
      "\t\t\t<li>벌레</li>\n",
      "\t\t\t<li>소음</li>\n",
      "\t\t\t<li>해산물</li>\n",
      "\t\t</ul>\n",
      "----------------------\n"
     ]
    }
   ],
   "source": [
    "pattern4 = re.compile(r\"<ul>(?P<text>.*?)</ul>\", re.DOTALL)\n",
    "ul_list = pattern4.finditer(read)\n",
    "for ul in ul_list:\n",
    "    print(ul.group())\n",
    "    print(\"----------------------\")"
   ]
  },
  {
   "cell_type": "code",
   "execution_count": 75,
   "id": "sharp-campus",
   "metadata": {},
   "outputs": [
    {
     "name": "stdout",
     "output_type": "stream",
     "text": [
      "[['여행', '게임', '낮잠'], ['벌레', '소음', '해산물']]\n"
     ]
    }
   ],
   "source": [
    "pattern4 = re.compile(r\"<ul>(?P<text>.*?)</ul>\", re.DOTALL)\n",
    "ul_list = pattern4.finditer(read)\n",
    "rows = []\n",
    "for ul in ul_list:\n",
    "    ul_text = ul.group()\n",
    "    pattern = re.compile(r\"<li>(?P<litext>.*?)</li>\", re.DOTALL)\n",
    "    matchs = pattern.finditer(ul_text)\n",
    "    row = []\n",
    "    for match in matchs:\n",
    "        row.append(match.group(\"litext\"))\n",
    "    rows.append(row)\n",
    "print(rows)"
   ]
  },
  {
   "cell_type": "code",
   "execution_count": null,
   "id": "circular-bride",
   "metadata": {},
   "outputs": [],
   "source": []
  }
 ],
 "metadata": {
  "kernelspec": {
   "display_name": "Python 3",
   "language": "python",
   "name": "python3"
  },
  "language_info": {
   "codemirror_mode": {
    "name": "ipython",
    "version": 3
   },
   "file_extension": ".py",
   "mimetype": "text/x-python",
   "name": "python",
   "nbconvert_exporter": "python",
   "pygments_lexer": "ipython3",
   "version": "3.9.1"
  }
 },
 "nbformat": 4,
 "nbformat_minor": 5
}
