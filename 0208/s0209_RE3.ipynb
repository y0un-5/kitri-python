{
 "cells": [
  {
   "cell_type": "code",
   "execution_count": 1,
   "id": "cognitive-client",
   "metadata": {},
   "outputs": [],
   "source": [
    "import re"
   ]
  },
  {
   "cell_type": "code",
   "execution_count": 2,
   "id": "protective-utility",
   "metadata": {},
   "outputs": [],
   "source": [
    "pat = re.compile(r\".+:\")"
   ]
  },
  {
   "cell_type": "code",
   "execution_count": 3,
   "id": "noble-specialist",
   "metadata": {},
   "outputs": [
    {
     "name": "stdout",
     "output_type": "stream",
     "text": [
      "<re.Match object; span=(0, 5), match='http:'>\n",
      "<re.Match object; span=(0, 4), match='ftp:'>\n"
     ]
    }
   ],
   "source": [
    "print(pat.search(\"http://www.naver.com\"))\n",
    "print(pat.search(\"ftp://ftp.kaist.ac.kr\"))"
   ]
  },
  {
   "cell_type": "code",
   "execution_count": 4,
   "id": "atlantic-bibliography",
   "metadata": {},
   "outputs": [],
   "source": [
    "pat = re.compile(r\".+(?=:)\")"
   ]
  },
  {
   "cell_type": "code",
   "execution_count": 5,
   "id": "organized-discretion",
   "metadata": {},
   "outputs": [
    {
     "name": "stdout",
     "output_type": "stream",
     "text": [
      "<re.Match object; span=(0, 4), match='http'>\n",
      "<re.Match object; span=(0, 3), match='ftp'>\n"
     ]
    }
   ],
   "source": [
    "print(pat.search(\"http://www.naver.com\"))\n",
    "print(pat.search(\"ftp://ftp.kaist.ac.kr\"))"
   ]
  },
  {
   "cell_type": "code",
   "execution_count": 7,
   "id": "conditional-vault",
   "metadata": {},
   "outputs": [],
   "source": [
    "file1 = \"foo.bar\"\n",
    "file2 = \"autoexec.bat\"\n",
    "file3 = \"sendmail.cf\"\n",
    "file4 = \"hosts\""
   ]
  },
  {
   "cell_type": "code",
   "execution_count": 8,
   "id": "peaceful-south",
   "metadata": {},
   "outputs": [
    {
     "name": "stdout",
     "output_type": "stream",
     "text": [
      "<re.Match object; span=(0, 7), match='foo.bar'>\n",
      "<re.Match object; span=(0, 12), match='autoexec.bat'>\n",
      "<re.Match object; span=(0, 11), match='sendmail.cf'>\n",
      "None\n"
     ]
    }
   ],
   "source": [
    "pat = re.compile(r\".+[.].+\")\n",
    "print(pat.search(file1))\n",
    "print(pat.search(file2))\n",
    "print(pat.search(file3))\n",
    "print(pat.search(file4))"
   ]
  },
  {
   "cell_type": "code",
   "execution_count": 11,
   "id": "fourth-reception",
   "metadata": {},
   "outputs": [
    {
     "name": "stdout",
     "output_type": "stream",
     "text": [
      "<re.Match object; span=(0, 7), match='foo.bar'>\n",
      "None\n",
      "<re.Match object; span=(0, 11), match='sendmail.cf'>\n",
      "None\n"
     ]
    }
   ],
   "source": [
    "pat = re.compile(r\".+[.]([^b].?.>.|.[^a].?|..[^t]+)\")\n",
    "print(pat.search(file1))\n",
    "print(pat.search(file2))\n",
    "print(pat.search(file3))\n",
    "print(pat.search(file4))"
   ]
  },
  {
   "cell_type": "code",
   "execution_count": 13,
   "id": "reserved-password",
   "metadata": {
    "scrolled": true
   },
   "outputs": [
    {
     "name": "stdout",
     "output_type": "stream",
     "text": [
      "<re.Match object; span=(0, 4), match='foo.'>\n",
      "None\n",
      "None\n",
      "None\n"
     ]
    }
   ],
   "source": [
    "pat = re.compile(r\".+[.](?!bat$|cf$)\")\n",
    "print(pat.search(file1))\n",
    "print(pat.search(file2))\n",
    "print(pat.search(file3))\n",
    "print(pat.search(file4))"
   ]
  },
  {
   "cell_type": "code",
   "execution_count": 47,
   "id": "functional-cycling",
   "metadata": {},
   "outputs": [
    {
     "name": "stdout",
     "output_type": "stream",
     "text": [
      "<re.Match object; span=(0, 4), match='blue'>\n",
      "<re.Match object; span=(15, 18), match='red'>\n"
     ]
    }
   ],
   "source": [
    "pat = re.compile(r\"(blue|white|red)\")\n",
    "matchs = pat.finditer(\"blue socks and red shoes\")\n",
    "for match in matchs:\n",
    "    print(match)"
   ]
  },
  {
   "cell_type": "code",
   "execution_count": 48,
   "id": "automatic-ribbon",
   "metadata": {},
   "outputs": [
    {
     "data": {
      "text/plain": [
       "'color socks and color shoes'"
      ]
     },
     "execution_count": 48,
     "metadata": {},
     "output_type": "execute_result"
    }
   ],
   "source": [
    "pat.sub(\"color\", \"blue socks and red shoes\")"
   ]
  },
  {
   "cell_type": "code",
   "execution_count": 49,
   "id": "afraid-investor",
   "metadata": {},
   "outputs": [
    {
     "data": {
      "text/plain": [
       "('color socks and color shoes', 2)"
      ]
     },
     "execution_count": 49,
     "metadata": {},
     "output_type": "execute_result"
    }
   ],
   "source": [
    "pat.subn(\"color\", \"blue socks and red shoes\")"
   ]
  },
  {
   "cell_type": "code",
   "execution_count": 50,
   "id": "professional-doubt",
   "metadata": {},
   "outputs": [
    {
     "name": "stdout",
     "output_type": "stream",
     "text": [
      "park 800905-1049118\n",
      "kim 700905-1059119\n",
      "lee 010-1234-5678\n",
      "moon 900905-1059120\n",
      "kang 02-1212-4545\n"
     ]
    }
   ],
   "source": [
    "file = open(\"members.txt\", \"r\")\n",
    "read = file.read()\n",
    "print(read)"
   ]
  },
  {
   "cell_type": "code",
   "execution_count": 56,
   "id": "imperial-mission",
   "metadata": {},
   "outputs": [
    {
     "name": "stdout",
     "output_type": "stream",
     "text": [
      "park 800905-********\n",
      "kim 700905-********\n",
      "lee 010-1234-5678\n",
      "moon 900905-********\n",
      "kang 02-1212-4545\n"
     ]
    }
   ],
   "source": [
    "pat = re.compile(r\"(?P<name>\\w+)\\s+(?P<rrn>(?P<birth>\\d{6})[-]\\d{7})\")\n",
    "print(pat.sub(\"\\g<name> \\g<birth>-********\", read))"
   ]
  },
  {
   "cell_type": "code",
   "execution_count": null,
   "id": "serious-mount",
   "metadata": {},
   "outputs": [],
   "source": []
  }
 ],
 "metadata": {
  "kernelspec": {
   "display_name": "Python 3",
   "language": "python",
   "name": "python3"
  },
  "language_info": {
   "codemirror_mode": {
    "name": "ipython",
    "version": 3
   },
   "file_extension": ".py",
   "mimetype": "text/x-python",
   "name": "python",
   "nbconvert_exporter": "python",
   "pygments_lexer": "ipython3",
   "version": "3.9.1"
  }
 },
 "nbformat": 4,
 "nbformat_minor": 5
}
