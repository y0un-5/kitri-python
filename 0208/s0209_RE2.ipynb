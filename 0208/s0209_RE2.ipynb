{
 "cells": [
  {
   "cell_type": "code",
   "execution_count": 1,
   "id": "stuffed-health",
   "metadata": {},
   "outputs": [],
   "source": [
    "import re"
   ]
  },
  {
   "cell_type": "code",
   "execution_count": 3,
   "id": "chinese-raise",
   "metadata": {},
   "outputs": [],
   "source": [
    "pat1 = re.compile(\"ca+t\")\n",
    "pat2 = re.compile(\"(ca)+t\")"
   ]
  },
  {
   "cell_type": "code",
   "execution_count": 5,
   "id": "expired-former",
   "metadata": {},
   "outputs": [
    {
     "name": "stdout",
     "output_type": "stream",
     "text": [
      "<re.Match object; span=(0, 6), match='caaaat'>\n",
      "<re.Match object; span=(0, 7), match='cacacat'>\n"
     ]
    }
   ],
   "source": [
    "print(pat1.search(\"caaaat\"))\n",
    "print(pat2.search(\"cacacat\"))"
   ]
  },
  {
   "cell_type": "code",
   "execution_count": 33,
   "id": "particular-moment",
   "metadata": {},
   "outputs": [],
   "source": [
    "pat = re.compile(\"(\\w+)\\s+((\\d{6})[-](\\d{7}))\")\n",
    "                 --1--    -------2--------\n",
    "                            --3--    --4--\n",
    "                 -------------0-------------"
   ]
  },
  {
   "cell_type": "code",
   "execution_count": 26,
   "id": "reported-heading",
   "metadata": {},
   "outputs": [
    {
     "data": {
      "text/plain": [
       "0"
      ]
     },
     "execution_count": 26,
     "metadata": {},
     "output_type": "execute_result"
    }
   ],
   "source": [
    "pat.search(\"lee  780512-1133555\").start()"
   ]
  },
  {
   "cell_type": "code",
   "execution_count": 27,
   "id": "similar-mobility",
   "metadata": {},
   "outputs": [
    {
     "data": {
      "text/plain": [
       "19"
      ]
     },
     "execution_count": 27,
     "metadata": {},
     "output_type": "execute_result"
    }
   ],
   "source": [
    "pat.search(\"lee  780512-1133555\").end()"
   ]
  },
  {
   "cell_type": "code",
   "execution_count": 28,
   "id": "thermal-biodiversity",
   "metadata": {},
   "outputs": [
    {
     "data": {
      "text/plain": [
       "'lee  780512-1133555'"
      ]
     },
     "execution_count": 28,
     "metadata": {},
     "output_type": "execute_result"
    }
   ],
   "source": [
    "pat.search(\"lee  780512-1133555\").group()"
   ]
  },
  {
   "cell_type": "code",
   "execution_count": 29,
   "id": "opposed-booth",
   "metadata": {},
   "outputs": [
    {
     "data": {
      "text/plain": [
       "'lee'"
      ]
     },
     "execution_count": 29,
     "metadata": {},
     "output_type": "execute_result"
    }
   ],
   "source": [
    "pat.search(\"lee  780512-1133555\").group(1)"
   ]
  },
  {
   "cell_type": "code",
   "execution_count": 30,
   "id": "selected-citizenship",
   "metadata": {},
   "outputs": [
    {
     "data": {
      "text/plain": [
       "'780512-1133555'"
      ]
     },
     "execution_count": 30,
     "metadata": {},
     "output_type": "execute_result"
    }
   ],
   "source": [
    "pat.search(\"lee  780512-1133555\").group(2)"
   ]
  },
  {
   "cell_type": "code",
   "execution_count": 31,
   "id": "grateful-warehouse",
   "metadata": {},
   "outputs": [
    {
     "data": {
      "text/plain": [
       "'780512'"
      ]
     },
     "execution_count": 31,
     "metadata": {},
     "output_type": "execute_result"
    }
   ],
   "source": [
    "pat.search(\"lee  780512-1133555\").group(3)"
   ]
  },
  {
   "cell_type": "code",
   "execution_count": 32,
   "id": "formed-gamma",
   "metadata": {},
   "outputs": [
    {
     "data": {
      "text/plain": [
       "'1133555'"
      ]
     },
     "execution_count": 32,
     "metadata": {},
     "output_type": "execute_result"
    }
   ],
   "source": [
    "pat.search(\"lee  780512-1133555\").group(4)"
   ]
  },
  {
   "cell_type": "code",
   "execution_count": 34,
   "id": "prompt-problem",
   "metadata": {},
   "outputs": [
    {
     "name": "stdout",
     "output_type": "stream",
     "text": [
      "park 800905-1049118\n",
      "kim 700905-1059119\n",
      "lee 010-1234-5678\n",
      "moon 900905-1059120\n",
      "kang 02-1212-4545\n"
     ]
    }
   ],
   "source": [
    "file = open(\"members.txt\", \"r\")\n",
    "read = file.read()\n",
    "print(read)"
   ]
  },
  {
   "cell_type": "code",
   "execution_count": 51,
   "id": "impressed-butter",
   "metadata": {},
   "outputs": [
    {
     "name": "stdout",
     "output_type": "stream",
     "text": [
      "park 800905-*******\n",
      "kim 700905-*******\n",
      "moon 900905-*******\n"
     ]
    }
   ],
   "source": [
    "pat = re.compile(r\"(\\w+)+\\s+((\\d{6})[-](\\d{7}))\")\n",
    "matchs = pat.finditer(read)\n",
    "for match in matchs:\n",
    "    print(match.group(1), match.group(3) + \"-*******\")"
   ]
  },
  {
   "cell_type": "code",
   "execution_count": 56,
   "id": "present-rebound",
   "metadata": {},
   "outputs": [
    {
     "data": {
      "text/plain": [
       "<re.Match object; span=(4, 9), match='to to'>"
      ]
     },
     "execution_count": 56,
     "metadata": {},
     "output_type": "execute_result"
    }
   ],
   "source": [
    "pat = re.compile(r\"(\\w+)\\s+\\1\")\n",
    "pat.search(\"$32rto todsfg ABC ABC fdr\")"
   ]
  },
  {
   "cell_type": "code",
   "execution_count": null,
   "id": "eligible-acrobat",
   "metadata": {},
   "outputs": [],
   "source": [
    "pat = re.compile(r\"(?P<anme>\\w+)\\s+(?P<rrn>(?P<birth>\\d{6})[-](\\d{7}))\")"
   ]
  }
 ],
 "metadata": {
  "kernelspec": {
   "display_name": "Python 3",
   "language": "python",
   "name": "python3"
  },
  "language_info": {
   "codemirror_mode": {
    "name": "ipython",
    "version": 3
   },
   "file_extension": ".py",
   "mimetype": "text/x-python",
   "name": "python",
   "nbconvert_exporter": "python",
   "pygments_lexer": "ipython3",
   "version": "3.9.1"
  }
 },
 "nbformat": 4,
 "nbformat_minor": 5
}
