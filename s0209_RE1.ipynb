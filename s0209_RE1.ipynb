{
 "cells": [
  {
   "cell_type": "code",
   "execution_count": 1,
   "id": "educated-university",
   "metadata": {},
   "outputs": [],
   "source": [
    "import re"
   ]
  },
  {
   "cell_type": "code",
   "execution_count": 2,
   "id": "regulated-element",
   "metadata": {},
   "outputs": [],
   "source": [
    "file = open(\"members.txt\", \"r\")\n",
    "read = file.read()"
   ]
  },
  {
   "cell_type": "code",
   "execution_count": 3,
   "id": "individual-virus",
   "metadata": {},
   "outputs": [
    {
     "data": {
      "text/plain": [
       "'park 800905-1049118\\nkim 700905-1059119\\nlee 010-1234-5678\\nmoon 900905-1059120\\nkang 02-1212-4545'"
      ]
     },
     "execution_count": 3,
     "metadata": {},
     "output_type": "execute_result"
    }
   ],
   "source": [
    "read"
   ]
  },
  {
   "cell_type": "code",
   "execution_count": 4,
   "id": "frequent-mexico",
   "metadata": {},
   "outputs": [
    {
     "name": "stdout",
     "output_type": "stream",
     "text": [
      "park 800905-1049118\n",
      "kim 700905-1059119\n",
      "lee 010-1234-5678\n",
      "moon 900905-1059120\n",
      "kang 02-1212-4545\n"
     ]
    }
   ],
   "source": [
    "print(read)"
   ]
  },
  {
   "cell_type": "code",
   "execution_count": 5,
   "id": "approved-detroit",
   "metadata": {},
   "outputs": [
    {
     "data": {
      "text/plain": [
       "['800905-1049118', '700905-1059119', '900905-1059120']"
      ]
     },
     "execution_count": 5,
     "metadata": {},
     "output_type": "execute_result"
    }
   ],
   "source": [
    "pat = re.compile(r\"\\d{6}[-][0-9]{7}\")\n",
    "pat.findall(read)"
   ]
  },
  {
   "cell_type": "code",
   "execution_count": 6,
   "id": "hundred-synthesis",
   "metadata": {},
   "outputs": [],
   "source": [
    "data = \"\"\"python one\n",
    "life is too short\n",
    "python two\n",
    "you need python\n",
    "python three\"\"\""
   ]
  },
  {
   "cell_type": "code",
   "execution_count": 9,
   "id": "reserved-ideal",
   "metadata": {},
   "outputs": [
    {
     "data": {
      "text/plain": [
       "['python one', 'python two', 'python\\npython']"
      ]
     },
     "execution_count": 9,
     "metadata": {},
     "output_type": "execute_result"
    }
   ],
   "source": [
    "pat = re.compile(f\"python\\s+\\w+\", re.MULTILINE)\n",
    "pat.findall(data)"
   ]
  },
  {
   "cell_type": "code",
   "execution_count": 11,
   "id": "temporal-negotiation",
   "metadata": {},
   "outputs": [
    {
     "data": {
      "text/plain": [
       "['python one', 'python two', 'python three']"
      ]
     },
     "execution_count": 11,
     "metadata": {},
     "output_type": "execute_result"
    }
   ],
   "source": [
    "pat = re.compile(f\"^python\\s+\\w+\", re.MULTILINE)\n",
    "pat.findall(data)"
   ]
  },
  {
   "cell_type": "code",
   "execution_count": 12,
   "id": "ordered-austin",
   "metadata": {},
   "outputs": [
    {
     "data": {
      "text/plain": [
       "<re.Match object; span=(0, 5), match='fileA'>"
      ]
     },
     "execution_count": 12,
     "metadata": {},
     "output_type": "execute_result"
    }
   ],
   "source": [
    "pat = re.compile(r\"file[ABC]\")\n",
    "pat.match(\"fileA\")"
   ]
  },
  {
   "cell_type": "code",
   "execution_count": 13,
   "id": "stainless-agency",
   "metadata": {},
   "outputs": [
    {
     "data": {
      "text/plain": [
       "<re.Match object; span=(0, 4), match='blue'>"
      ]
     },
     "execution_count": 13,
     "metadata": {},
     "output_type": "execute_result"
    }
   ],
   "source": [
    "pat = re.compile(r\"red|blue\")\n",
    "pat.match(\"red\")\n",
    "pat.match(\"blue\")"
   ]
  },
  {
   "cell_type": "code",
   "execution_count": 14,
   "id": "fatal-purchase",
   "metadata": {},
   "outputs": [
    {
     "data": {
      "text/plain": [
       "<re.Match object; span=(0, 4), match='crow'>"
      ]
     },
     "execution_count": 14,
     "metadata": {},
     "output_type": "execute_result"
    }
   ],
   "source": [
    "pat = re.compile(r\"crow|servo\")\n",
    "pat.match(\"crow\")"
   ]
  },
  {
   "cell_type": "code",
   "execution_count": 15,
   "id": "proof-twins",
   "metadata": {},
   "outputs": [
    {
     "data": {
      "text/plain": [
       "<re.Match object; span=(0, 5), match='servo'>"
      ]
     },
     "execution_count": 15,
     "metadata": {},
     "output_type": "execute_result"
    }
   ],
   "source": [
    "pat.match(\"servo\")"
   ]
  },
  {
   "cell_type": "code",
   "execution_count": 20,
   "id": "formed-chair",
   "metadata": {},
   "outputs": [
    {
     "data": {
      "text/plain": [
       "['\\nyou need python']"
      ]
     },
     "execution_count": 20,
     "metadata": {},
     "output_type": "execute_result"
    }
   ],
   "source": [
    "pat = re.compile(r\"\\s.*python$\", re.MULTILINE)\n",
    "pat.findall(data)"
   ]
  },
  {
   "cell_type": "code",
   "execution_count": 21,
   "id": "electric-cabin",
   "metadata": {
    "scrolled": true
   },
   "outputs": [
    {
     "data": {
      "text/plain": [
       "<re.Match object; span=(0, 6), match='python'>"
      ]
     },
     "execution_count": 21,
     "metadata": {},
     "output_type": "execute_result"
    }
   ],
   "source": [
    "t1 = \"python is very easy\"\n",
    "t2 = \"you need python\"\n",
    "\n",
    "pat = re.compile(r\"python\")\n",
    "pat.match(t1)"
   ]
  },
  {
   "cell_type": "code",
   "execution_count": 22,
   "id": "charitable-banks",
   "metadata": {},
   "outputs": [],
   "source": [
    "t1 = \"python is very easy\"\n",
    "t2 = \"you need python\"\n",
    "\n",
    "pat = re.compile(r\"python\")\n",
    "pat.match(t2)"
   ]
  },
  {
   "cell_type": "code",
   "execution_count": 23,
   "id": "prepared-shower",
   "metadata": {},
   "outputs": [
    {
     "data": {
      "text/plain": [
       "<re.Match object; span=(9, 15), match='python'>"
      ]
     },
     "execution_count": 23,
     "metadata": {},
     "output_type": "execute_result"
    }
   ],
   "source": [
    "t1 = \"python is very easy\"\n",
    "t2 = \"you need python\"\n",
    "\n",
    "pat = re.compile(r\"python\")\n",
    "pat.search(t2)"
   ]
  },
  {
   "cell_type": "code",
   "execution_count": 24,
   "id": "orange-lucas",
   "metadata": {},
   "outputs": [],
   "source": [
    "t1 = \"python is very easy\"\n",
    "t2 = \"you need python\"\n",
    "\n",
    "pat1 = re.compile(r\"^python\")\n",
    "pat2 = re.compile(r\"python$\") "
   ]
  },
  {
   "cell_type": "code",
   "execution_count": 25,
   "id": "increasing-segment",
   "metadata": {},
   "outputs": [
    {
     "data": {
      "text/plain": [
       "<re.Match object; span=(0, 6), match='python'>"
      ]
     },
     "execution_count": 25,
     "metadata": {},
     "output_type": "execute_result"
    }
   ],
   "source": [
    "pat1.match(t1)"
   ]
  },
  {
   "cell_type": "code",
   "execution_count": 26,
   "id": "protective-accident",
   "metadata": {},
   "outputs": [],
   "source": [
    "pat2.match(t1)"
   ]
  },
  {
   "cell_type": "code",
   "execution_count": 27,
   "id": "incredible-basin",
   "metadata": {},
   "outputs": [],
   "source": [
    "pat2.match(t2)"
   ]
  },
  {
   "cell_type": "code",
   "execution_count": 36,
   "id": "alone-three",
   "metadata": {},
   "outputs": [],
   "source": [
    "t1 = \"python is very easy\"\n",
    "t2 = \"you need python\"\n",
    "\n",
    "pat1 = re.compile(r\"\\Apython\\s\\w+\", re.MULTILINE)\n",
    "pat2 = re.compile(r\"python\\Z\") "
   ]
  },
  {
   "cell_type": "code",
   "execution_count": 37,
   "id": "median-democrat",
   "metadata": {},
   "outputs": [
    {
     "data": {
      "text/plain": [
       "['python one']"
      ]
     },
     "execution_count": 37,
     "metadata": {},
     "output_type": "execute_result"
    }
   ],
   "source": [
    "pat1.findall(data)"
   ]
  },
  {
   "cell_type": "code",
   "execution_count": 38,
   "id": "brilliant-discharge",
   "metadata": {},
   "outputs": [],
   "source": [
    "t1 = \"abc class xyz\"\n",
    "t2 = \"abc classification.xyz\"\n",
    "t3 = \"abc declassfied/xyz\"\n",
    "t4 = \"abc abcclass-xyz\""
   ]
  },
  {
   "cell_type": "code",
   "execution_count": 46,
   "id": "toxic-garden",
   "metadata": {},
   "outputs": [
    {
     "name": "stdout",
     "output_type": "stream",
     "text": [
      "None\n",
      "None\n",
      "None\n",
      "<re.Match object; span=(5, 12), match='bcclass'>\n"
     ]
    }
   ],
   "source": [
    "pat = re.compile(r\"\\B\\w+class\\b\")\n",
    "print(pat.search(t1))\n",
    "print(pat.search(t2))\n",
    "print(pat.search(t3))\n",
    "print(pat.search(t4))"
   ]
  },
  {
   "cell_type": "code",
   "execution_count": null,
   "id": "essential-manchester",
   "metadata": {},
   "outputs": [],
   "source": []
  }
 ],
 "metadata": {
  "kernelspec": {
   "display_name": "Python 3",
   "language": "python",
   "name": "python3"
  },
  "language_info": {
   "codemirror_mode": {
    "name": "ipython",
    "version": 3
   },
   "file_extension": ".py",
   "mimetype": "text/x-python",
   "name": "python",
   "nbconvert_exporter": "python",
   "pygments_lexer": "ipython3",
   "version": "3.9.1"
  }
 },
 "nbformat": 4,
 "nbformat_minor": 5
}
